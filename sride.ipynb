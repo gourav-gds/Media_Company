{
 "cells": [
  {
   "cell_type": "code",
   "execution_count": 1,
   "metadata": {},
   "outputs": [],
   "source": [
    "import numpy as np\n",
    "import pandas as pd\n",
    "import matplotlib.pyplot as plt\n",
    "import seaborn as sns\n",
    "%matplotlib inline"
   ]
  },
  {
   "cell_type": "code",
   "execution_count": 2,
   "metadata": {},
   "outputs": [],
   "source": [
    "df = pd.read_excel(\"Data_Science.xlsx\")"
   ]
  },
  {
   "cell_type": "code",
   "execution_count": 3,
   "metadata": {},
   "outputs": [
    {
     "data": {
      "text/html": [
       "<div>\n",
       "<style scoped>\n",
       "    .dataframe tbody tr th:only-of-type {\n",
       "        vertical-align: middle;\n",
       "    }\n",
       "\n",
       "    .dataframe tbody tr th {\n",
       "        vertical-align: top;\n",
       "    }\n",
       "\n",
       "    .dataframe thead th {\n",
       "        text-align: right;\n",
       "    }\n",
       "</style>\n",
       "<table border=\"1\" class=\"dataframe\">\n",
       "  <thead>\n",
       "    <tr style=\"text-align: right;\">\n",
       "      <th></th>\n",
       "      <th>UserId</th>\n",
       "      <th>campaign</th>\n",
       "      <th>realcity</th>\n",
       "      <th>membership</th>\n",
       "      <th>gender</th>\n",
       "      <th>createdAt</th>\n",
       "      <th>Cost Of User Aciquistion</th>\n",
       "      <th>User Life Time Value (LTV)</th>\n",
       "    </tr>\n",
       "  </thead>\n",
       "  <tbody>\n",
       "    <tr>\n",
       "      <th>0</th>\n",
       "      <td>u6Whdqhc9pbfpM2</td>\n",
       "      <td>FB-Device Targetting</td>\n",
       "      <td>Bengaluru</td>\n",
       "      <td>BRONZE</td>\n",
       "      <td>MALE</td>\n",
       "      <td>2018-11-25 17:38:33</td>\n",
       "      <td>100</td>\n",
       "      <td>0</td>\n",
       "    </tr>\n",
       "    <tr>\n",
       "      <th>1</th>\n",
       "      <td>PxpmIXN1OIWh4Ne</td>\n",
       "      <td>Organic</td>\n",
       "      <td>Delhi</td>\n",
       "      <td>BRONZE</td>\n",
       "      <td>MALE</td>\n",
       "      <td>2018-12-25 19:19:11</td>\n",
       "      <td>90</td>\n",
       "      <td>80</td>\n",
       "    </tr>\n",
       "    <tr>\n",
       "      <th>2</th>\n",
       "      <td>kpGUDDDhKBkwePp</td>\n",
       "      <td>Organic</td>\n",
       "      <td>Mumbai</td>\n",
       "      <td>NaN</td>\n",
       "      <td>MALE</td>\n",
       "      <td>2019-01-15 11:24:56</td>\n",
       "      <td>50</td>\n",
       "      <td>1900</td>\n",
       "    </tr>\n",
       "    <tr>\n",
       "      <th>3</th>\n",
       "      <td>BVmM3wUNvspBSrc</td>\n",
       "      <td>Organic</td>\n",
       "      <td>Pune</td>\n",
       "      <td>BRONZE</td>\n",
       "      <td>MALE</td>\n",
       "      <td>2018-04-30 17:17:18</td>\n",
       "      <td>10</td>\n",
       "      <td>1400</td>\n",
       "    </tr>\n",
       "    <tr>\n",
       "      <th>4</th>\n",
       "      <td>J9jtLsR52ylRDZ9</td>\n",
       "      <td>Organic</td>\n",
       "      <td>Pune</td>\n",
       "      <td>GOLD</td>\n",
       "      <td>MALE</td>\n",
       "      <td>2018-09-23 10:50:13</td>\n",
       "      <td>80</td>\n",
       "      <td>290</td>\n",
       "    </tr>\n",
       "  </tbody>\n",
       "</table>\n",
       "</div>"
      ],
      "text/plain": [
       "            UserId              campaign   realcity membership gender  \\\n",
       "0  u6Whdqhc9pbfpM2  FB-Device Targetting  Bengaluru     BRONZE   MALE   \n",
       "1  PxpmIXN1OIWh4Ne               Organic      Delhi     BRONZE   MALE   \n",
       "2  kpGUDDDhKBkwePp               Organic     Mumbai        NaN   MALE   \n",
       "3  BVmM3wUNvspBSrc               Organic       Pune     BRONZE   MALE   \n",
       "4  J9jtLsR52ylRDZ9               Organic       Pune       GOLD   MALE   \n",
       "\n",
       "            createdAt  Cost Of User Aciquistion  User Life Time Value (LTV)  \n",
       "0 2018-11-25 17:38:33                       100                           0  \n",
       "1 2018-12-25 19:19:11                        90                          80  \n",
       "2 2019-01-15 11:24:56                        50                        1900  \n",
       "3 2018-04-30 17:17:18                        10                        1400  \n",
       "4 2018-09-23 10:50:13                        80                         290  "
      ]
     },
     "execution_count": 3,
     "metadata": {},
     "output_type": "execute_result"
    }
   ],
   "source": [
    "df.head()"
   ]
  },
  {
   "cell_type": "code",
   "execution_count": 4,
   "metadata": {},
   "outputs": [
    {
     "name": "stdout",
     "output_type": "stream",
     "text": [
      "<class 'pandas.core.frame.DataFrame'>\n",
      "RangeIndex: 100 entries, 0 to 99\n",
      "Data columns (total 8 columns):\n",
      "UserId                        100 non-null object\n",
      "campaign                      96 non-null object\n",
      "realcity                      87 non-null object\n",
      "membership                    58 non-null object\n",
      "gender                        100 non-null object\n",
      "createdAt                     100 non-null datetime64[ns]\n",
      "Cost Of User Aciquistion      100 non-null int64\n",
      "User Life Time Value (LTV)    100 non-null int64\n",
      "dtypes: datetime64[ns](1), int64(2), object(5)\n",
      "memory usage: 6.3+ KB\n"
     ]
    }
   ],
   "source": [
    "df.info()"
   ]
  },
  {
   "cell_type": "code",
   "execution_count": 5,
   "metadata": {},
   "outputs": [
    {
     "data": {
      "text/plain": [
       "Kolkata      24\n",
       "Hyderabad    18\n",
       "Mumbai       13\n",
       "Pune         13\n",
       "Bengaluru     7\n",
       "Chennai       6\n",
       "Delhi         5\n",
       "chennai       1\n",
       "Name: realcity, dtype: int64"
      ]
     },
     "execution_count": 5,
     "metadata": {},
     "output_type": "execute_result"
    }
   ],
   "source": [
    "df.realcity.value_counts()"
   ]
  },
  {
   "cell_type": "code",
   "execution_count": 7,
   "metadata": {},
   "outputs": [
    {
     "data": {
      "text/html": [
       "<div>\n",
       "<style scoped>\n",
       "    .dataframe tbody tr th:only-of-type {\n",
       "        vertical-align: middle;\n",
       "    }\n",
       "\n",
       "    .dataframe tbody tr th {\n",
       "        vertical-align: top;\n",
       "    }\n",
       "\n",
       "    .dataframe thead th {\n",
       "        text-align: right;\n",
       "    }\n",
       "</style>\n",
       "<table border=\"1\" class=\"dataframe\">\n",
       "  <thead>\n",
       "    <tr style=\"text-align: right;\">\n",
       "      <th></th>\n",
       "      <th>User Life Time Value (LTV)</th>\n",
       "    </tr>\n",
       "  </thead>\n",
       "  <tbody>\n",
       "    <tr>\n",
       "      <th>User Life Time Value (LTV)</th>\n",
       "      <td>1.0</td>\n",
       "    </tr>\n",
       "  </tbody>\n",
       "</table>\n",
       "</div>"
      ],
      "text/plain": [
       "                            User Life Time Value (LTV)\n",
       "User Life Time Value (LTV)                         1.0"
      ]
     },
     "execution_count": 7,
     "metadata": {},
     "output_type": "execute_result"
    }
   ],
   "source": [
    "df[['realcity', 'User Life Time Value (LTV)']].corr()"
   ]
  },
  {
   "cell_type": "code",
   "execution_count": 9,
   "metadata": {},
   "outputs": [],
   "source": [
    "df.realcity.replace(to_replace=np.nan, value=\"Null\", inplace = True)"
   ]
  },
  {
   "cell_type": "code",
   "execution_count": 10,
   "metadata": {},
   "outputs": [
    {
     "data": {
      "text/plain": [
       "Kolkata      24\n",
       "Hyderabad    18\n",
       "Mumbai       13\n",
       "Pune         13\n",
       "Null         13\n",
       "Bengaluru     7\n",
       "Chennai       6\n",
       "Delhi         5\n",
       "chennai       1\n",
       "Name: realcity, dtype: int64"
      ]
     },
     "execution_count": 10,
     "metadata": {},
     "output_type": "execute_result"
    }
   ],
   "source": [
    "df.realcity.value_counts()"
   ]
  },
  {
   "cell_type": "code",
   "execution_count": 11,
   "metadata": {},
   "outputs": [],
   "source": [
    "df.realcity.replace(to_replace=\"chennai\", value=\"Chennai\", inplace = True)"
   ]
  },
  {
   "cell_type": "code",
   "execution_count": 12,
   "metadata": {},
   "outputs": [
    {
     "data": {
      "text/html": [
       "<div>\n",
       "<style scoped>\n",
       "    .dataframe tbody tr th:only-of-type {\n",
       "        vertical-align: middle;\n",
       "    }\n",
       "\n",
       "    .dataframe tbody tr th {\n",
       "        vertical-align: top;\n",
       "    }\n",
       "\n",
       "    .dataframe thead th {\n",
       "        text-align: right;\n",
       "    }\n",
       "</style>\n",
       "<table border=\"1\" class=\"dataframe\">\n",
       "  <thead>\n",
       "    <tr style=\"text-align: right;\">\n",
       "      <th></th>\n",
       "      <th>UserId</th>\n",
       "      <th>campaign</th>\n",
       "      <th>realcity</th>\n",
       "      <th>membership</th>\n",
       "      <th>gender</th>\n",
       "      <th>createdAt</th>\n",
       "      <th>Cost Of User Aciquistion</th>\n",
       "      <th>User Life Time Value (LTV)</th>\n",
       "    </tr>\n",
       "  </thead>\n",
       "  <tbody>\n",
       "    <tr>\n",
       "      <th>6</th>\n",
       "      <td>B5Ah0a6gbSdW0sN</td>\n",
       "      <td>referral</td>\n",
       "      <td>Null</td>\n",
       "      <td>NaN</td>\n",
       "      <td>FEMALE</td>\n",
       "      <td>2019-01-02 12:41:00</td>\n",
       "      <td>90</td>\n",
       "      <td>12090</td>\n",
       "    </tr>\n",
       "    <tr>\n",
       "      <th>7</th>\n",
       "      <td>B5ADHXCBrham4Yh</td>\n",
       "      <td>FB-airolimindspace-borivali</td>\n",
       "      <td>Null</td>\n",
       "      <td>NaN</td>\n",
       "      <td>FEMALE</td>\n",
       "      <td>2018-12-25 16:45:25</td>\n",
       "      <td>50</td>\n",
       "      <td>0</td>\n",
       "    </tr>\n",
       "    <tr>\n",
       "      <th>14</th>\n",
       "      <td>B5AptFA1YmrQ4Rw</td>\n",
       "      <td>referral</td>\n",
       "      <td>Null</td>\n",
       "      <td>NaN</td>\n",
       "      <td>FEMALE</td>\n",
       "      <td>2019-02-11 10:06:11</td>\n",
       "      <td>80</td>\n",
       "      <td>290</td>\n",
       "    </tr>\n",
       "    <tr>\n",
       "      <th>17</th>\n",
       "      <td>B5A7usayVnZx87F</td>\n",
       "      <td>NaN</td>\n",
       "      <td>Null</td>\n",
       "      <td>GOLD</td>\n",
       "      <td>FEMALE</td>\n",
       "      <td>2015-11-25 03:24:36</td>\n",
       "      <td>50</td>\n",
       "      <td>0</td>\n",
       "    </tr>\n",
       "    <tr>\n",
       "      <th>26</th>\n",
       "      <td>B5AVSCakEhhBwyf</td>\n",
       "      <td>FB_050119_Pune</td>\n",
       "      <td>Null</td>\n",
       "      <td>NaN</td>\n",
       "      <td>FEMALE</td>\n",
       "      <td>2019-02-05 12:27:02</td>\n",
       "      <td>90</td>\n",
       "      <td>1900</td>\n",
       "    </tr>\n",
       "  </tbody>\n",
       "</table>\n",
       "</div>"
      ],
      "text/plain": [
       "             UserId                     campaign realcity membership  gender  \\\n",
       "6   B5Ah0a6gbSdW0sN                     referral     Null        NaN  FEMALE   \n",
       "7   B5ADHXCBrham4Yh  FB-airolimindspace-borivali     Null        NaN  FEMALE   \n",
       "14  B5AptFA1YmrQ4Rw                     referral     Null        NaN  FEMALE   \n",
       "17  B5A7usayVnZx87F                          NaN     Null       GOLD  FEMALE   \n",
       "26  B5AVSCakEhhBwyf               FB_050119_Pune     Null        NaN  FEMALE   \n",
       "\n",
       "             createdAt  Cost Of User Aciquistion  User Life Time Value (LTV)  \n",
       "6  2019-01-02 12:41:00                        90                       12090  \n",
       "7  2018-12-25 16:45:25                        50                           0  \n",
       "14 2019-02-11 10:06:11                        80                         290  \n",
       "17 2015-11-25 03:24:36                        50                           0  \n",
       "26 2019-02-05 12:27:02                        90                        1900  "
      ]
     },
     "execution_count": 12,
     "metadata": {},
     "output_type": "execute_result"
    }
   ],
   "source": [
    "df1 = df[df.realcity == \"Null\"]\n",
    "df1.head()"
   ]
  },
  {
   "cell_type": "code",
   "execution_count": 13,
   "metadata": {},
   "outputs": [
    {
     "data": {
      "text/plain": [
       "referral                       3\n",
       "Organic                        3\n",
       "CPR_ A1                        1\n",
       "CPR-B1                         1\n",
       "FB-airolimindspace-borivali    1\n",
       "FB_050119_Pune                 1\n",
       "FB-Device Targetting           1\n",
       "Name: campaign, dtype: int64"
      ]
     },
     "execution_count": 13,
     "metadata": {},
     "output_type": "execute_result"
    }
   ],
   "source": [
    "df1.campaign.value_counts()"
   ]
  },
  {
   "cell_type": "code",
   "execution_count": 14,
   "metadata": {},
   "outputs": [
    {
     "data": {
      "text/plain": [
       "BRONZE    2\n",
       "GOLD      2\n",
       "Name: membership, dtype: int64"
      ]
     },
     "execution_count": 14,
     "metadata": {},
     "output_type": "execute_result"
    }
   ],
   "source": [
    "df1.membership.value_counts()"
   ]
  },
  {
   "cell_type": "code",
   "execution_count": null,
   "metadata": {},
   "outputs": [],
   "source": []
  }
 ],
 "metadata": {
  "kernelspec": {
   "display_name": "Python 3",
   "language": "python",
   "name": "python3"
  },
  "language_info": {
   "codemirror_mode": {
    "name": "ipython",
    "version": 3
   },
   "file_extension": ".py",
   "mimetype": "text/x-python",
   "name": "python",
   "nbconvert_exporter": "python",
   "pygments_lexer": "ipython3",
   "version": "3.7.0"
  }
 },
 "nbformat": 4,
 "nbformat_minor": 2
}
